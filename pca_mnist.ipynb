{
  "nbformat": 4,
  "nbformat_minor": 0,
  "metadata": {
    "colab": {
      "name": "pca_mnist.ipynb",
      "provenance": []
    },
    "kernelspec": {
      "name": "python3",
      "display_name": "Python 3"
    }
  },
  "cells": [
    {
      "cell_type": "code",
      "metadata": {
        "id": "kcx75l4iuXkF"
      },
      "source": [
        "import numpy as np\r\n",
        "import matplotlib.pyplot as plt\r\n",
        "%matplotlib inline"
      ],
      "execution_count": 111,
      "outputs": []
    },
    {
      "cell_type": "code",
      "metadata": {
        "id": "9w9YJ0k-ujOr"
      },
      "source": [
        "from sklearn import datasets\r\n",
        "from sklearn.decomposition import PCA"
      ],
      "execution_count": 112,
      "outputs": []
    },
    {
      "cell_type": "code",
      "metadata": {
        "id": "DMMycR2IuxUF"
      },
      "source": [
        "digits = datasets.load_digits()"
      ],
      "execution_count": 113,
      "outputs": []
    },
    {
      "cell_type": "code",
      "metadata": {
        "id": "nvax07_Bu2Pr"
      },
      "source": [
        "X = digits.data\r\n",
        "y = digits.target\r\n",
        "\r\n",
        "mask = y < 3\r\n",
        "\r\n",
        "X = X[mask]\r\n",
        "y = y[mask]"
      ],
      "execution_count": 114,
      "outputs": []
    },
    {
      "cell_type": "code",
      "metadata": {
        "colab": {
          "base_uri": "https://localhost:8080/"
        },
        "id": "LzZdFG2s0apk",
        "outputId": "c4458704-af6e-4f36-e27f-52748e85df5f"
      },
      "source": [
        "y[:15]"
      ],
      "execution_count": 115,
      "outputs": [
        {
          "output_type": "execute_result",
          "data": {
            "text/plain": [
              "array([0, 1, 2, 0, 1, 2, 0, 1, 2, 0, 0, 1, 1, 0, 0])"
            ]
          },
          "metadata": {
            "tags": []
          },
          "execution_count": 115
        }
      ]
    },
    {
      "cell_type": "code",
      "metadata": {
        "colab": {
          "base_uri": "https://localhost:8080/"
        },
        "id": "i4JIbyOFu6_X",
        "outputId": "6016fe61-7f58-46fc-ba33-aca224e41d30"
      },
      "source": [
        "X.shape"
      ],
      "execution_count": 116,
      "outputs": [
        {
          "output_type": "execute_result",
          "data": {
            "text/plain": [
              "(537, 64)"
            ]
          },
          "metadata": {
            "tags": []
          },
          "execution_count": 116
        }
      ]
    },
    {
      "cell_type": "code",
      "metadata": {
        "colab": {
          "base_uri": "https://localhost:8080/"
        },
        "id": "MXq5hat7u9D1",
        "outputId": "c342a85e-2f83-45fc-87a3-2f9739b900f3"
      },
      "source": [
        "y.shape"
      ],
      "execution_count": 117,
      "outputs": [
        {
          "output_type": "execute_result",
          "data": {
            "text/plain": [
              "(537,)"
            ]
          },
          "metadata": {
            "tags": []
          },
          "execution_count": 117
        }
      ]
    },
    {
      "cell_type": "code",
      "metadata": {
        "colab": {
          "base_uri": "https://localhost:8080/"
        },
        "id": "EdsqeE92u_nN",
        "outputId": "16f76138-1024-4f44-f1ec-14884928b287"
      },
      "source": [
        "pca = PCA(n_components=4)\r\n",
        "pca.fit(X)"
      ],
      "execution_count": 118,
      "outputs": [
        {
          "output_type": "execute_result",
          "data": {
            "text/plain": [
              "PCA(copy=True, iterated_power='auto', n_components=4, random_state=None,\n",
              "    svd_solver='auto', tol=0.0, whiten=False)"
            ]
          },
          "metadata": {
            "tags": []
          },
          "execution_count": 118
        }
      ]
    },
    {
      "cell_type": "code",
      "metadata": {
        "colab": {
          "base_uri": "https://localhost:8080/"
        },
        "id": "dToWoZmpvPtE",
        "outputId": "f54dc2b7-479c-42b9-a21d-753da616e28e"
      },
      "source": [
        "pca.components_.shape"
      ],
      "execution_count": 119,
      "outputs": [
        {
          "output_type": "execute_result",
          "data": {
            "text/plain": [
              "(4, 64)"
            ]
          },
          "metadata": {
            "tags": []
          },
          "execution_count": 119
        }
      ]
    },
    {
      "cell_type": "code",
      "metadata": {
        "id": "-R0Wv6JYvUax"
      },
      "source": [
        "Z = pca.transform(X)"
      ],
      "execution_count": 120,
      "outputs": []
    },
    {
      "cell_type": "code",
      "metadata": {
        "colab": {
          "base_uri": "https://localhost:8080/"
        },
        "id": "mI6aIWyuzKpP",
        "outputId": "afdb1f8c-6368-46ee-d34c-6487399f96ef"
      },
      "source": [
        "Z.shape"
      ],
      "execution_count": 121,
      "outputs": [
        {
          "output_type": "execute_result",
          "data": {
            "text/plain": [
              "(537, 4)"
            ]
          },
          "metadata": {
            "tags": []
          },
          "execution_count": 121
        }
      ]
    },
    {
      "cell_type": "code",
      "metadata": {
        "colab": {
          "base_uri": "https://localhost:8080/",
          "height": 282
        },
        "id": "z30MsTPUzMrz",
        "outputId": "dc6960f8-06b1-4760-cf7f-54c6ab6f24ca"
      },
      "source": [
        "plt.scatter(Z[:,0],Z[:,1],c=y)"
      ],
      "execution_count": 122,
      "outputs": [
        {
          "output_type": "execute_result",
          "data": {
            "text/plain": [
              "<matplotlib.collections.PathCollection at 0x7f126abfefd0>"
            ]
          },
          "metadata": {
            "tags": []
          },
          "execution_count": 122
        },
        {
          "output_type": "display_data",
          "data": {
            "image/png": "[encoded data removed]",
            "text/plain": [
              "<Figure size 432x288 with 1 Axes>"
            ]
          },
          "metadata": {
            "tags": [],
            "needs_background": "light"
          }
        }
      ]
    },
    {
      "cell_type": "code",
      "metadata": {
        "id": "6WupBZc6zY2v"
      },
      "source": [
        "from sklearn.datasets import make_classification\r\n",
        "from sklearn.ensemble import GradientBoostingClassifier\r\n",
        "from sklearn.model_selection import train_test_split\r\n",
        "\r\n",
        "X = Z\r\n",
        "\r\n",
        "X, y = make_classification(random_state=0)\r\n",
        "\r\n",
        "X_train, X_test, y_train, y_test = train_test_split(X, y, random_state=0, shuffle = True)\r\n"
      ],
      "execution_count": 127,
      "outputs": []
    },
    {
      "cell_type": "code",
      "metadata": {
        "id": "XaBgn_afAywx"
      },
      "source": [
        "from xgboost import XGBClassifier\r\n",
        "from sklearn.metrics import confusion_matrix\r\n",
        "from sklearn.model_selection import cross_val_score, KFold\r\n",
        "\r\n",
        "xgbc = XGBClassifier()\r\n",
        "# print(xgbc)"
      ],
      "execution_count": 133,
      "outputs": []
    },
    {
      "cell_type": "code",
      "metadata": {
        "id": "9ReXHCz9_jO-",
        "outputId": "08df2eec-7c1c-4a0e-e88c-4f54ebdc499d",
        "colab": {
          "base_uri": "https://localhost:8080/"
        }
      },
      "source": [
        "xgbc.fit(X_train, y_train)"
      ],
      "execution_count": 134,
      "outputs": [
        {
          "output_type": "execute_result",
          "data": {
            "text/plain": [
              "XGBClassifier(base_score=0.5, booster='gbtree', colsample_bylevel=1,\n",
              "              colsample_bynode=1, colsample_bytree=1, gamma=0,\n",
              "              learning_rate=0.1, max_delta_step=0, max_depth=3,\n",
              "              min_child_weight=1, missing=None, n_estimators=100, n_jobs=1,\n",
              "              nthread=None, objective='binary:logistic', random_state=0,\n",
              "              reg_alpha=0, reg_lambda=1, scale_pos_weight=1, seed=None,\n",
              "              silent=None, subsample=1, verbosity=1)"
            ]
          },
          "metadata": {
            "tags": []
          },
          "execution_count": 134
        }
      ]
    },
    {
      "cell_type": "code",
      "metadata": {
        "id": "uVVlgVxhBDDu",
        "outputId": "7b42c5b5-a4e3-4d41-c61b-00e366b52aa7",
        "colab": {
          "base_uri": "https://localhost:8080/"
        }
      },
      "source": [
        "scores = cross_val_score(xgbc, X_train, y_train, cv=5)\r\n",
        "print(\"Mean cross-validation score: %.2f\" % scores.mean())\r\n",
        " \r\n",
        "kfold = KFold(n_splits=10, shuffle=True)\r\n",
        "kf_cv_scores = cross_val_score(xgbc, X_train, y_train, cv=kfold )\r\n",
        "print(\"K-fold CV average score: %.2f\" % kf_cv_scores.mean())"
      ],
      "execution_count": 141,
      "outputs": [
        {
          "output_type": "stream",
          "text": [
            "Mean cross-validation score: 0.89\n",
            "K-fold CV average score: 0.91\n"
          ],
          "name": "stdout"
        }
      ]
    },
    {
      "cell_type": "code",
      "metadata": {
        "id": "q_T-uZc-BIij",
        "outputId": "a612cc5b-2529-4796-b2b7-2bdeb4f9fc89",
        "colab": {
          "base_uri": "https://localhost:8080/"
        }
      },
      "source": [
        "y_pred = xgbc.predict(X_test)\r\n",
        "cm = confusion_matrix(y_test,y_pred) \r\n",
        "print(cm)\r\n"
      ],
      "execution_count": 142,
      "outputs": [
        {
          "output_type": "stream",
          "text": [
            "[[12  1]\n",
            " [ 1 11]]\n"
          ],
          "name": "stdout"
        }
      ]
    },
    {
      "cell_type": "code",
      "metadata": {
        "id": "ysJgGirIBYX5"
      },
      "source": [
        ""
      ],
      "execution_count": null,
      "outputs": []
    },
    {
      "cell_type": "code",
      "metadata": {
        "id": "_RYWGgy-A9xu"
      },
      "source": [
        "\r\n",
        "\r\n",
        "import xgboost as xgb\r\n",
        "\r\n",
        "xgb_model = xgb.XGBClassifier(objective=\"multi:softprob\", random_state=42)\r\n",
        "\r\n",
        "xgb_model.fit(X_train, y_train)\r\n",
        "\r\n",
        "y_pred = xgb_model.predict(X_test)\r\n",
        "\r\n",
        "print(confusion_matrix(y_test, y_pred))\r\n"
      ],
      "execution_count": null,
      "outputs": []
    },
    {
      "cell_type": "code",
      "metadata": {
        "id": "S24uzWrO-w5x"
      },
      "source": [
        "# clf = GradientBoostingClassifier(random_state=0)\r\n",
        "\r\n",
        "\r\n",
        "clf.fit(X_train, y_train)\r\n",
        "\r\n",
        "xgb_predict = clf.predict(X_test)\r\n",
        "\r\n",
        "clf.score(X_test, y_test)"
      ],
      "execution_count": null,
      "outputs": []
    },
    {
      "cell_type": "code",
      "metadata": {
        "colab": {
          "base_uri": "https://localhost:8080/"
        },
        "id": "UpZ-YxEm6XO0",
        "outputId": "5a42b111-b42e-41bb-a4ef-22bb7a36d4c0"
      },
      "source": [
        "xgb_predict"
      ],
      "execution_count": 105,
      "outputs": [
        {
          "output_type": "execute_result",
          "data": {
            "text/plain": [
              "array([1, 0, 1, 0, 0, 1, 1, 0, 1, 1, 1, 0, 0, 0, 0, 1, 0, 0, 1, 1, 1, 0,\n",
              "       1, 0, 0])"
            ]
          },
          "metadata": {
            "tags": []
          },
          "execution_count": 105
        }
      ]
    },
    {
      "cell_type": "code",
      "metadata": {
        "colab": {
          "base_uri": "https://localhost:8080/"
        },
        "id": "_J1-1qWS45nu",
        "outputId": "b759581e-6b3a-4067-a2ad-c15c09e29254"
      },
      "source": [
        "from sklearn.metrics import classification_report,confusion_matrix\r\n",
        "\r\n",
        "print(confusion_matrix(y_test,xgb_predict))\r\n",
        "print(classification_report(y_test,xgb_predict))"
      ],
      "execution_count": 106,
      "outputs": [
        {
          "output_type": "stream",
          "text": [
            "[[12  1]\n",
            " [ 1 11]]\n",
            "              precision    recall  f1-score   support\n",
            "\n",
            "           0       0.92      0.92      0.92        13\n",
            "           1       0.92      0.92      0.92        12\n",
            "\n",
            "    accuracy                           0.92        25\n",
            "   macro avg       0.92      0.92      0.92        25\n",
            "weighted avg       0.92      0.92      0.92        25\n",
            "\n"
          ],
          "name": "stdout"
        }
      ]
    },
    {
      "cell_type": "code",
      "metadata": {
        "colab": {
          "base_uri": "https://localhost:8080/"
        },
        "id": "5mlPLASV5zDF",
        "outputId": "ac21e935-3816-43d7-e90b-97d5a86f5c76"
      },
      "source": [
        "y_test.shape,xgb_predict.shape"
      ],
      "execution_count": 107,
      "outputs": [
        {
          "output_type": "execute_result",
          "data": {
            "text/plain": [
              "((25,), (25,))"
            ]
          },
          "metadata": {
            "tags": []
          },
          "execution_count": 107
        }
      ]
    },
    {
      "cell_type": "code",
      "metadata": {
        "id": "g1LaITDP6T6W"
      },
      "source": [
        ""
      ],
      "execution_count": 107,
      "outputs": []
    }
  ]
}